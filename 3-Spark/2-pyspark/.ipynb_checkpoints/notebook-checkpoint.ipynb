{
 "cells": [
  {
   "cell_type": "markdown",
   "id": "15ba736a",
   "metadata": {},
   "source": [
    "# Environment set up for pyspark"
   ]
  },
  {
   "cell_type": "markdown",
   "id": "b0ebfc47",
   "metadata": {},
   "source": [
    "## 1. Create a virtual environment:"
   ]
  },
  {
   "cell_type": "markdown",
   "id": "5491b0e1",
   "metadata": {},
   "source": [
    "### a. Create a directory for the project\n",
    "\n",
    "```sh\n",
    "mkdir pyspark_training\n",
    "```"
   ]
  },
  {
   "cell_type": "markdown",
   "id": "3ae303cc",
   "metadata": {},
   "source": [
    "### b. Move to the directory\n",
    "\n",
    "```sh\n",
    "cd pyspark_training/\n",
    "```"
   ]
  },
  {
   "cell_type": "markdown",
   "id": "1c1ed7e4",
   "metadata": {},
   "source": [
    "### c. Create a virtual environment for the project\n",
    "\n",
    "```sh\n",
    "python3 -m venv venv # The virtual environment is named venv\n",
    "```"
   ]
  },
  {
   "cell_type": "markdown",
   "id": "dd5e5701",
   "metadata": {},
   "source": [
    "### d. Check the environment creation\n",
    "\n",
    "```sh\n",
    "ls\n",
    "```"
   ]
  },
  {
   "cell_type": "markdown",
   "id": "5d750ace",
   "metadata": {},
   "source": [
    "### e. Activate the virtual environment\n",
    "```sh\n",
    "source venv/bin/activate\n",
    "```"
   ]
  },
  {
   "cell_type": "markdown",
   "id": "5992acff",
   "metadata": {},
   "source": [
    "## 2. Install pyspark using pip\n",
    "\n",
    "```sh\n",
    "pip install pyspark\n",
    "```"
   ]
  },
  {
   "cell_type": "markdown",
   "id": "2d1db111",
   "metadata": {},
   "source": [
    "## 3. Install jupyter using pip\n",
    "\n",
    "```sh\n",
    "pip install pyspark\n",
    "```"
   ]
  },
  {
   "cell_type": "markdown",
   "id": "a40c3c27",
   "metadata": {},
   "source": [
    "## 4. Check the installation of pyspark and jupyter\n",
    "\n",
    "```sh\n",
    "pip list\n",
    "```"
   ]
  },
  {
   "cell_type": "markdown",
   "id": "1f8e4ffa",
   "metadata": {},
   "source": [
    "## 5. Lunch jupyter-notebook\n",
    "\n",
    "```sh\n",
    "jupyter-notebbok\n",
    "```"
   ]
  },
  {
   "cell_type": "code",
   "execution_count": null,
   "id": "86777604",
   "metadata": {},
   "outputs": [],
   "source": []
  }
 ],
 "metadata": {
  "kernelspec": {
   "display_name": "Python 3 (ipykernel)",
   "language": "python",
   "name": "python3"
  },
  "language_info": {
   "codemirror_mode": {
    "name": "ipython",
    "version": 3
   },
   "file_extension": ".py",
   "mimetype": "text/x-python",
   "name": "python",
   "nbconvert_exporter": "python",
   "pygments_lexer": "ipython3",
   "version": "3.12.3"
  }
 },
 "nbformat": 4,
 "nbformat_minor": 5
}
